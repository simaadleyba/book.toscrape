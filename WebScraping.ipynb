# Importnecessary libraries

import numpy as np
import matplotlib.pyplot as plt
import requests
from bs4 import BeautifulSoup

# Get the website URL and retrieve the response
url = 'http://books.toscrape.com'
response = requests.get(url)

# Create a BeautifulSoup object to parse the response content
soup = BeautifulSoup(response.content, 'html.parser')

# Find the div element containing the category links
div = soup.find('div', class_='side_categories')
links = div.find_all('a')
base_url = 'http://books.toscrape.com/'

# Create empty lists to store category names, number of books, and average price for each category
categories = []
results = []
avg_price = []

# Loop through each link in the category list
for link in links:
    href = link.get('href')
    link_url = base_url + href
    totalPrice = 0
    numBooks = 0
    
    # Retrieve the response for the category link
    link_response = requests.get(link_url)
    link_soup = BeautifulSoup(link_response.content, 'html.parser')
    
    # Find the form element containing the number of results for the category
    divRes = link_soup.find('form', class_ = 'form-horizontal')
    result_strong = divRes.find('strong')
    result = result_strong.text.strip()
    category = link.text.strip()

    # Find all price tags for books in the category and calculate the total price and number of books
    price_tags = link_soup.find_all('p', class_='price_color')
    for price_tag in price_tags:
        price = price_tag.text[1:]  # Remove the currency symbol from the price string
        totalPrice += float(price)
        numBooks += 1
    
    # If the category is not 'Books', append the category name, number of books, and average price to their respective lists
    if category != 'Books':
        categories.append(category)
        results.append(int(result))
        avg_price.append("{:.2f}".format(totalPrice / numBooks))  # Format the average price to two decimal places
    
# Create numpy arrays for the category names, number of books, and average price
genreNums = np.array([categories, results]).T
genrePrice = np.array([categories, avg_price]).T

# Plot a bar chart of the number of books per genre
genres = genreNums[:, 0]
counts = genreNums[:, 1].astype(int)

plt.figure(figsize=(12, 6))  # adjust figure size
plt.bar(genres, counts, width=1)  # adjust width parameter
plt.xticks(rotation=90, fontsize=12)  # adjust font size and rotation of x-axis labels
plt.yticks(fontsize=12)  # adjust font size of y-axis labels
plt.xlabel('Genres', fontsize=14)  # add x-axis label and adjust font size
plt.ylabel('Number of Books', fontsize=14)  # add y-axis label and adjust font size
plt.title('Number of Books per Genre', fontsize=16)  # add title and adjust font size
plt.show()

# Plot a bar chart of the average price per genre
genres = genrePrice[:, 0]
averagePrice = genrePrice[:, 1]
averagePrice = averagePrice.astype(float)  # Convert the average price to a float

plt.figure(figsize=(12, 6))  # adjust figure size
plt.bar(genres, averagePrice, width=1)  # adjust width parameter
plt.xticks(rotation=90, fontsize=12)  # adjust font size and rotation of x-axis labels
plt.yticks(fontsize=12)  # adjust
